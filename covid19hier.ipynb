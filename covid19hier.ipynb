{
 "cells": [
  {
   "cell_type": "markdown",
   "metadata": {
    "colab_type": "text",
    "id": "K8G8U0J4T2Fv"
   },
   "source": [
    "# Analysis of National COVID-19 Virus Testing Data\n",
    "This notebook reports the statistical analysis of all COVID-19 virus testing data from the US.  "
   ]
  },
  {
   "cell_type": "code",
   "execution_count": null,
   "metadata": {
    "colab": {
     "base_uri": "https://localhost:8080/",
     "height": 126
    },
    "colab_type": "code",
    "executionInfo": {
     "elapsed": 31367,
     "status": "ok",
     "timestamp": 1584211497687,
     "user": {
      "displayName": "Song Qian",
      "photoUrl": "https://lh3.googleusercontent.com/a-/AOh14GjSQssL62w2ou7kLhFnxho0frSw2Wz1aYE6eRwNqw=s64",
      "userId": "11207732467950204127"
     },
     "user_tz": 240
    },
    "id": "yyFzTnrDTUnQ",
    "outputId": "4df4252e-f9fd-40db-a482-34bc85928dad"
   },
   "outputs": [
    {
     "name": "stdout",
     "output_type": "stream",
     "text": [
      "Go to this URL in a browser: https://accounts.google.com/o/oauth2/auth?client_id=947318989803-6bn6qk8qdgf4n4g3pfee6491hc0brc4i.apps.googleusercontent.com&redirect_uri=urn%3aietf%3awg%3aoauth%3a2.0%3aoob&response_type=code&scope=email%20https%3a%2f%2fwww.googleapis.com%2fauth%2fdocs.test%20https%3a%2f%2fwww.googleapis.com%2fauth%2fdrive%20https%3a%2f%2fwww.googleapis.com%2fauth%2fdrive.photos.readonly%20https%3a%2f%2fwww.googleapis.com%2fauth%2fpeopleapi.readonly\n",
      "\n",
      "Enter your authorization code:\n",
      "··········\n",
      "Mounted at /content/drive\n"
     ]
    }
   ],
   "source": [
    "%load_ext rpy2.ipython\n",
    "from google.colab import drive\n",
    "drive.mount('/content/drive', force_remount=True)"
   ]
  },
  {
   "cell_type": "code",
   "execution_count": null,
   "metadata": {
    "colab": {},
    "colab_type": "code",
    "id": "2Jc_YhoZbZta"
   },
   "outputs": [],
   "source": [
    "%%R\n",
    "## setting up R\n",
    "system(\"add-apt-repository -y ppa:marutter/rrutter\")\n",
    "system(\"add-apt-repository -y ppa:marutter/c2d4u\")\n",
    "system(\"apt-get update\")\n",
    "system(\"apt install -y r-cran-rstan\")\n",
    "packages<-function(x, repos=\"http://cran.r-project.org\", ...){\n",
    "  x<-as.character(match.call()[[2]])\n",
    "  if (!require(x,character.only=TRUE)){\n",
    "    install.packages(pkgs=x, repos=repos, ...)\n",
    "    require(x,character.only=TRUE)\n",
    "  }\n",
    "}\n",
    "\n",
    "packages(tidyverse)\n",
    "packages(reshape2)\n",
    "packages(rv)\n",
    "packages(lattice)\n",
    "packages(rstan)\n",
    "\n",
    "rstan_options(auto_write = TRUE)\n",
    "options(mc.cores = min(c(parallel::detectCores(), 8)))\n",
    "\n",
    "nchains <-  min(c(parallel::detectCores(), 8))\n",
    "niters <- 5000000\n",
    "nkeep <- 2500\n",
    "nthin <- ceiling((niters/2)*nchains/nkeep)\n"
   ]
  },
  {
   "cell_type": "markdown",
   "metadata": {
    "colab_type": "text",
    "id": "dI1vj5U5UV75"
   },
   "source": [
    "## Data Source\n",
    "Data used in this study are from [the COVID Tracking project](covidtracking.com).  Data from states are traacked and updated on [GitHub](github.com/COVID19Tracking/covid-tracking-data).  The daily data file includes all daily testing data, and the update file includes only the most recent data.  The program allows selecting data by date. \n"
   ]
  },
  {
   "cell_type": "code",
   "execution_count": 22,
   "metadata": {
    "colab": {
     "base_uri": "https://localhost:8080/",
     "height": 853
    },
    "colab_type": "code",
    "executionInfo": {
     "elapsed": 797,
     "status": "ok",
     "timestamp": 1584231188293,
     "user": {
      "displayName": "Song Qian",
      "photoUrl": "https://lh3.googleusercontent.com/a-/AOh14GjSQssL62w2ou7kLhFnxho0frSw2Wz1aYE6eRwNqw=s64",
      "userId": "11207732467950204127"
     },
     "user_tz": 240
    },
    "id": "z3QjZ4lOV90i",
    "outputId": "8da06844-0262-4e5a-e7d7-d8ee874214b4"
   },
   "outputs": [
    {
     "data": {
      "text/plain": [
       "   state positive negative pending death total lastUpdateEt checkTimeEt\n",
       "1     AK        1      143      NA    NA   144   3/13 16:30  3/14 13:40\n",
       "2     AL        6       22      46    NA    74   3/13 00:00  3/14 15:25\n",
       "3     AR       12       65      26    NA   103   3/13 00:00  3/14 15:21\n",
       "4     AZ       12      121      50     0   183   3/14 12:01  3/14 13:18\n",
       "5     CA      252      916      NA     5  1168   3/13 11:00  3/14 15:48\n",
       "6     CO      101      712      NA     1   814   3/14 14:00  3/14 15:42\n",
       "7     CT       11      125      NA    NA   136   3/13 16:00  3/14 13:22\n",
       "8     DC       10       49      10    NA    69   3/13 19:00  3/14 13:23\n",
       "9     DE        6       36      32    NA    74   3/14 13:00  3/14 15:49\n",
       "10    FL       77      478     221     3   776   3/14 00:54  3/14 13:25\n",
       "11    IA       17       83      NA    NA   100   3/13 00:00  3/14 16:00\n",
       "12    ID        2      174      NA    NA   176   3/13 22:45  3/14 16:16\n",
       "13    IL       46      316      82    NA   444   3/13 00:00  3/14 13:34\n",
       "14    IN       15       74      NA     0    89   3/13 23:59  3/14 13:35\n",
       "15    KS        6       93      NA     1   100   3/13 11:00  3/14 13:32\n",
       "16    KY       14      139      NA    NA   153   3/13 17:00  3/14 13:39\n",
       "17    LA       69      109      NA    NA   178   3/14 12:15  3/14 15:53\n",
       "18    MA      138      352      NA    NA   490   3/14 16:00  3/14 16:12\n",
       "19    MD       26       94      NA    NA   120   3/14 00:00  3/14 13:26\n",
       "20    ME        3       91      17    NA   111   3/13 14:00  3/14 13:22\n",
       "21    MI       25      205      26    NA   256   3/13 00:00  3/14 13:21\n",
       "22    MN       21      847      NA    NA   868   3/14 00:00  3/14 13:13\n",
       "23    MO        4       90      NA     0    94   3/13 18:10  3/14 13:11\n",
       "24    MS        6       84      NA    NA    90   3/13 18:35  3/14 13:10\n",
       "25    MT        5      103      NA    NA   108   3/13 19:00  3/14 13:09\n",
       "26    NC       23      137      NA    NA   160   3/14 12:00  3/14 15:34\n",
       "27    ND        1       54      14     0    69   3/13 13:00  3/14 13:07\n",
       "28    NE       14       80      33    NA   127   3/13 00:00  3/14 13:05\n",
       "29    NH        7      212      31    NA   250   3/14 09:00  3/14 16:00\n",
       "30    NM       10      237      NA    NA   247   3/13 00:00  3/14 13:04\n",
       "31    NV       20      168      NA    NA   188   3/14 12:33  3/14 12:56\n",
       "32    NY      524     2779      NA    NA  3303   3/14 12:30  3/14 16:02\n",
       "33    OH       13       50     159    NA   222   3/13 14:00  3/14 12:50\n",
       "34    OK        4       36      37    NA    77   3/13 22:30  3/14 12:49\n",
       "35    OR       30      337     157    NA   524   3/13 13:00  3/14 12:49\n",
       "36    PA       47      205     150    NA   402   3/14 14:00  3/14 15:35\n",
       "37    RI       20      198      57    NA   275   3/13 00:00  3/14 16:05\n",
       "38    SC       13      110      NA    NA   123   3/13 17:47  3/14 12:45\n",
       "39    SD        9      182       3    NA   194   3/14 00:00  3/14 12:45\n",
       "40    TN       32      130      NA    NA   162   3/14 15:00  3/14 16:07\n",
       "41    UT        6      131      NA    NA   137   3/13 15:00  3/14 12:50\n",
       "42    VA       30      117      NA    NA   147   3/13 11:00  3/14 12:56\n",
       "43    VT        4      227      NA    NA   231   3/14 13:00  3/14 13:47\n",
       "44    WA      568     6001      NA    37  6569   3/13 17:00  3/14 13:00\n",
       "45    WI       19      169      NA    NA   188   3/13 15:00  3/14 13:00\n",
       "46    WV        0       26       5    NA    31   3/13 00:00  3/14 16:11\n"
      ]
     },
     "metadata": {
      "tags": []
     },
     "output_type": "display_data"
    }
   ],
   "source": [
    "%%R\n",
    "covid_daily <- read.csv(\"https://raw.githubusercontent.com/COVID19Tracking/covid-tracking-data/master/data/states_daily_4pm_et.csv\")\n",
    "covid_update <- read.csv(\"https://raw.githubusercontent.com/COVID19Tracking/covid-tracking-data/master/data/states_current.csv\")\n",
    "\n",
    "covid_update<-covid_update %>% filter(!is.na(negative))\n",
    "covid_update$n <- covid_update$negative+covid_update$positive\n",
    "##print(covid_update)\n",
    "covid_update$TimeCk <- as.Date(covid_update$checkTimeEt, format=\"%m/%d %H:%M\")\n",
    "\n",
    "covid_daily<-covid_daily %>% filter(!is.na(negative))\n",
    "covid_daily$n <- covid_daily$negative+covid_daily$positive\n",
    "##print(covid_update)\n",
    "covid_daily$TimeCk <- as.Date(as.character(covid_daily$date), format=\"%Y%m%d\")\n",
    "\n",
    "print(covid_update)"
   ]
  },
  {
   "cell_type": "markdown",
   "metadata": {
    "colab_type": "text",
    "id": "2L9PYZLAdGwt"
   },
   "source": [
    "## Statistical Model\n",
    "A Bayesian hierarchical model on $\\theta$:\n",
    "$$\n",
    "\\begin{array}{rcl}\n",
    "y_j &\\sim& Bin(p_j, n_j)\\\\\n",
    "p_j & = & \\theta_j(1-f_n)+(1-\\theta)f_p\\\\\n",
    "\\mathrm{logit}(\\theta_j) & \\sim & N(\\mu_0, \\sigma_0^2)\\\\\n",
    "f_n & \\sim & beta(\\alpha_n, \\beta_n)\\\\\n",
    "f_p & \\sim & beta(\\alpha_p, \\beta_p)\n",
    "\\end{array}\n",
    "$$\n",
    "where $j$ indexes states, $y_j$ is the number of positives, $n_j$ is the number of tests with results (excluding pending tests), $\\theta_j$ is the prevalence for state $j$.  The hyper-parameter $\\mu_0$ is the national average of prevalence (in logit scale) and $\\sigma_0^2$ is among state variance of the logit transformed state-specific prevalences."
   ]
  },
  {
   "cell_type": "code",
   "execution_count": null,
   "metadata": {
    "colab": {},
    "colab_type": "code",
    "id": "Ci9-NeYvhQHx"
   },
   "outputs": [],
   "source": [
    "%%R\n",
    " stan.input2 <- function(infile=covid_update, an=1, bn=99,\n",
    "                        ap=1, bp=99, chains=nchains)\n",
    "{\n",
    "    date_checked <- format(unique(infile$TimeCk)[1], \"%B_%d\")\n",
    "    y <- infile$positive\n",
    "    n <- y+infile$negative\n",
    "    gr <- infile$state\n",
    "    N <- dim(infile)[1]\n",
    "    inits <- list()\n",
    "    bugs.data <- list(N=N, y=y, n=n, an=an, bn=bn, ap=ap, bp=bp)\n",
    "    for (i in 1:chains)\n",
    "        inits[[i]] <- list(logitth=rnorm(N, 0, 0.1), fn=runif(1, 0, 0.1),\n",
    "                           fp=runif(1, 0, 0.1),\n",
    "                           mu0=rnorm(1, 0, 0.1), sigma0=runif(1))\n",
    "    para <- c(\"theta\", \"fn\", \"fp\", \"theta0\", \"sigma0\")\n",
    "    return(list(para=para, data=bugs.data, inits=inits,\n",
    "                n.chains=chains, dateCkd=date_checked , model = \"\n",
    "           data{\n",
    "            int N;\n",
    "            int n[N];\n",
    "            int y[N];\n",
    "            real an;\n",
    "            real bn;\n",
    "            real ap;\n",
    "            real bp;\n",
    "           }\n",
    "           parameters{\n",
    "            real<lower=0,upper=1> fn;\n",
    "            real<lower=0,upper=1> fp;\n",
    "            vector[N] logitth;\n",
    "            real mu0;\n",
    "            real<lower=0> sigma0;\n",
    "           }\n",
    "           transformed parameters{\n",
    "            vector[N] theta;\n",
    "            for (i in 1:N){\n",
    "            theta[i] = inv_logit(logitth[i]);\n",
    "            }\n",
    "           }\n",
    "           model {\n",
    "            fn ~ beta(an, bn);\n",
    "            fp ~ beta(ap, bp);\n",
    "            for (i in 1:N){\n",
    "              logitth[i] ~ normal(mu0, sigma0);\n",
    "             }\n",
    "            y ~ binomial(n, theta*(1-fn)+(1-theta)*fp);\n",
    "           }\n",
    "           generated quantities{\n",
    "             real<lower=0,upper=1> theta0;\n",
    "             theta0 = inv_logit(mu0);\n",
    "           }\n",
    "           \"))\n",
    "}\n",
    "\n"
   ]
  },
  {
   "cell_type": "markdown",
   "metadata": {},
   "source": [
    "To run the model using data from a specific date:"
   ]
  },
  {
   "cell_type": "code",
   "execution_count": null,
   "metadata": {},
   "outputs": [],
   "source": [
    "tmp <- covid_daily$date==20200315\n",
    "input.to.stan <- stan.input2(infile=covid_daily[tmp,])\n",
    "date_checked <- input.to.stan$dateCkd"
   ]
  },
  {
   "cell_type": "markdown",
   "metadata": {},
   "source": [
    "Use the most recent data:"
   ]
  },
  {
   "cell_type": "code",
   "execution_count": null,
   "metadata": {},
   "outputs": [],
   "source": [
    "\n",
    "                \n",
    "input.to.stan <- stan.input2()\n",
    "date_checked <- input.to.stan$dateCkd\n",
    "\n",
    "fit <- stan_model(model_code = input.to.stan$model)\n",
    "fitB2 <- sampling(fit, data = input.to.stan$data, init=input.to.stan$inits,\n",
    "                  pars=input.to.stan$para,\n",
    "                  iter = niters, chains = input.to.stan$n.chains, thin=nthin,\n",
    "                  control=list(adapt_delta=0.99))\n",
    "print(fitB2)\n",
    "save(fitB2, file=paste(\"covid19_fit2_\",\n",
    "                       input.to.stan$dateCkd,\n",
    "                       \".RData\", sep=\"\"))\n",
    "\n",
    "input.to.stan <- stan.input2(infile=covid_update, an=2, bn=22, ap=3, bp=23)\n",
    "fitB3 <- sampling(fit, data = input.to.stan$data, init=input.to.stan$inits,\n",
    "                  pars=input.to.stan$para,\n",
    "                  iter = niters, chains = input.to.stan$n.chains, thin=nthin,\n",
    "                  control=list(adapt_delta=0.99))\n",
    "print(fitB3)\n",
    "save(fitB3, file=paste(\"covid19_fit3_\", input.to.stan$dateCkd,\".RData\", sep=\"\"))\n",
    "\n",
    "input.to.stan <- stan.input2(infile=covid_update,\n",
    "                             an=16, bn=24, ap=4, bp=45)\n",
    "fitB4 <- sampling(fit, data = input.to.stan$data, init=input.to.stan$inits,\n",
    "                  pars=input.to.stan$para,\n",
    "                  iter = niters, chains = input.to.stan$n.chains, thin=nthin,\n",
    "                  control=list(adapt_delta=0.99))\n",
    "print(fitB4)\n",
    "save(fitB4, file=paste(\"covid19_fit4_\",input.to.stan$dateCkd, \".RData\", sep=\"\"))\n"
   ]
  },
  {
   "cell_type": "markdown",
   "metadata": {},
   "source": [
    "Processing output and producing prevalence plots"
   ]
  },
  {
   "cell_type": "code",
   "execution_count": null,
   "metadata": {},
   "outputs": [],
   "source": [
    "## processing output\n",
    "\n",
    "covid_plot <- function(stanfit=fitB2, rawdata=covid_daily[tmp,],\n",
    "                       output_file1=\"prevalence1.png\",\n",
    "                       output_file2=\"prevalence2.png\",\n",
    "                       output_file3=\"prevalence3.png\",\n",
    "                       onscreen=T, chckd=date_checked){\n",
    "    nn <- dim(rawdata)[1]\n",
    "    covid_stan2 <- rvsims(as.matrix(as.data.frame(rstan::extract(stanfit,\n",
    "                                                                 permute=T))))\n",
    "    covid_summary2 <- as.data.frame(summary(covid_stan2))\n",
    "    names(covid_summary2) <- c(\"name\", \"Mean\", \"sd\", \"X1\",\"X2.5\",\n",
    "                               \"X25\",\"X50\",\"X75\",\"X97.5\",\"X99\", \"sims\")\n",
    "    plot_data <- covid_summary2[1:nn,]\n",
    "    plot_data$state <- rawdata$state\n",
    "    plot_data$n <- rawdata$n\n",
    "    plot_data$wdth <- plot_data$X97.5 - plot_data$X2.5\n",
    "    if (!onscreen) png(output_file1, height=6*120, width=3*120)\n",
    "    p <- ggplot(plot_data, aes(x=state, y=Mean)) +\n",
    "        geom_linerange(mapping=aes(ymin=X2.5, ymax=X97.5)) +\n",
    "        geom_linerange(mapping=aes(ymin=X25, ymax=X75), lwd=2, color=\"red\")+\n",
    "        geom_point(color=\"blue\")+labs(y=\"mean prevalence\", x=\"\")+ylim(0, 1)+\n",
    "        annotate(\"text\",x=min(ordered(plot_data$state)),y=mean(plot_data$X97.5),\n",
    "                 hjust=.2,label=paste(\"Last checked:\", chckd))\n",
    "    print(p+coord_flip())\n",
    "    if (!onscreen) dev.off()\n",
    "\n",
    "    ## ordered by mean\n",
    "    oo<-order(plot_data$Mean)\n",
    "    plot_data$stateO <- ordered(plot_data$state, levels=plot_data$state[oo])\n",
    "    if(!onscreen) png(output_file2, height=6*120, width=3*120)\n",
    "    pO <- ggplot(arrange(plot_data, Mean), aes(x=stateO, y=Mean))+\n",
    "        geom_linerange(mapping=aes(ymin=X2.5, ymax=X97.5)) +\n",
    "        geom_linerange(mapping=aes(ymin=X25, ymax=X75), lwd=2, color=\"red\")+\n",
    "        geom_point(color=\"blue\")+ylim(0, 1)+\n",
    "        labs(y=\"mean prevalence\", x=\"\")+\n",
    "        annotate(\"text\",x=min(plot_data$stateO),y=mean(plot_data$X97.5),\n",
    "                 hjust=.2,label=paste(\"Last checked:\", chckd))\n",
    "    print(pO+coord_flip())\n",
    "    if (!onscreen) dev.off()\n",
    "\n",
    "    ## ordered by sample size\n",
    "    oo <- plot_data$n\n",
    "    if(!onscreen) png(output_file3, height=3*120, width=5*120)\n",
    "    pO2 <- ggplot(arrange(plot_data, n), aes(x=n, y=wdth))+\n",
    "        geom_point(color=\"blue\")+ scale_x_continuous(trans = 'log10')+\n",
    "        labs(y=\"width of 95% interval\", x=\"number of tests\")+\n",
    "        annotate(\"text\",x=quantile(plot_data$n, prob=0.95),y=max(plot_data$wdth),\n",
    "                 hjust=.2,label=paste(\"Last checked:\", date_checked))\n",
    "    print(pO2)\n",
    "    if (!onscreen) dev.off()\n",
    "    return(list(summ=covid_summary2, pltdata=plot_data))\n",
    "}\n",
    "\n"
   ]
  },
  {
   "cell_type": "markdown",
   "metadata": {},
   "source": [
    "Three scenarios"
   ]
  },
  {
   "cell_type": "code",
   "execution_count": null,
   "metadata": {},
   "outputs": [],
   "source": [
    "## best case scenario\n",
    "bestcase <- covid_plot(stanfit=fitB2, rawdata=covid_daily[tmp,],\n",
    "                       output_file1=\"prevalence1_1.png\",\n",
    "                       output_file2=\"prevalence1_2.png\",\n",
    "                       output_file3=\"prevalence1_3.png\",\n",
    "                       onscreen=T)\n",
    "\n",
    "## middle case\n",
    "medcase <- covid_plot(stanfit=fitB3, rawdata=covid_daily[tmp,],\n",
    "                      output_file1=\"prevalence2_1.png\",\n",
    "                      output_file2=\"prevalence2_2.png\",\n",
    "                      output_file3=\"prevalence2_3.png\",\n",
    "                      onscreen=T)\n",
    "\n",
    "## worst case\n",
    "wrstcase <- covid_plot(stanfit=fitB4, rawdata=covid_daily[tmp,],\n",
    "                       output_file1=\"prevalence3_1.png\",\n",
    "                       output_file2=\"prevalence3_2.png\",\n",
    "                       output_file3=\"prevalence3_3.png\",\n",
    "                       onscreen=T)\n",
    "\n"
   ]
  },
  {
   "cell_type": "markdown",
   "metadata": {},
   "source": [
    "Combined plots"
   ]
  },
  {
   "cell_type": "code",
   "execution_count": null,
   "metadata": {},
   "outputs": [],
   "source": [
    "## combined plots\n",
    "cmb_data <- rbind(bestcase[[2]], medcase[[2]], wrstcase[[2]])\n",
    "mm <- dim(bestcase[[2]])[1]\n",
    "cmb_data$scenarios <- c(rep(\"best\", mm), rep(\"expected\", mm), rep(\"worst\", mm))\n",
    "png(\"allscenarios.png\", height=6*120, width=9*120)\n",
    "pp <- ggplot(data=cmb_data, aes(x=stateO, y=Mean)) +\n",
    "        geom_linerange(mapping=aes(ymin=X2.5, ymax=X97.5)) +\n",
    "        geom_linerange(mapping=aes(ymin=X25, ymax=X75), lwd=2, color=\"red\")+\n",
    "        geom_point(color=\"blue\")+labs(y=\"mean prevalence\", x=\"\")\n",
    "print(pp+facet_wrap(.~scenarios)+coord_flip())\n",
    "dev.off()\n"
   ]
  }
 ],
 "metadata": {
  "colab": {
   "authorship_tag": "ABX9TyPy6sLAOARU2amE2IvOnMUi",
   "collapsed_sections": [],
   "name": "covid19hier.ipynb",
   "provenance": []
  },
  "kernelspec": {
   "display_name": "Python 3",
   "language": "python",
   "name": "python3"
  },
  "language_info": {
   "codemirror_mode": {
    "name": "ipython",
    "version": 3
   },
   "file_extension": ".py",
   "mimetype": "text/x-python",
   "name": "python",
   "nbconvert_exporter": "python",
   "pygments_lexer": "ipython3",
   "version": "3.7.3"
  }
 },
 "nbformat": 4,
 "nbformat_minor": 2
}
